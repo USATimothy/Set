{
 "cells": [
  {
   "cell_type": "code",
   "execution_count": 3,
   "metadata": {},
   "outputs": [],
   "source": [
    "from productsets import *"
   ]
  },
  {
   "cell_type": "code",
   "execution_count": 4,
   "metadata": {},
   "outputs": [
    {
     "data": {
      "text/html": [
       "<div>\n",
       "<style scoped>\n",
       "    .dataframe tbody tr th:only-of-type {\n",
       "        vertical-align: middle;\n",
       "    }\n",
       "\n",
       "    .dataframe tbody tr th {\n",
       "        vertical-align: top;\n",
       "    }\n",
       "\n",
       "    .dataframe thead th {\n",
       "        text-align: right;\n",
       "    }\n",
       "</style>\n",
       "<table border=\"1\" class=\"dataframe\">\n",
       "  <thead>\n",
       "    <tr style=\"text-align: right;\">\n",
       "      <th></th>\n",
       "      <th>Method</th>\n",
       "      <th>Avg. no. of sets</th>\n",
       "      <th>microseconds per trial</th>\n",
       "    </tr>\n",
       "  </thead>\n",
       "  <tbody>\n",
       "    <tr>\n",
       "      <td>0</td>\n",
       "      <td>triplecheck with comprehensioncheck</td>\n",
       "      <td>2.76</td>\n",
       "      <td>683</td>\n",
       "    </tr>\n",
       "    <tr>\n",
       "      <td>1</td>\n",
       "      <td>triplecheck with stepcheck</td>\n",
       "      <td>2.76</td>\n",
       "      <td>293</td>\n",
       "    </tr>\n",
       "    <tr>\n",
       "      <td>2</td>\n",
       "      <td>doublecheck</td>\n",
       "      <td>2.82</td>\n",
       "      <td>249</td>\n",
       "    </tr>\n",
       "    <tr>\n",
       "      <td>3</td>\n",
       "      <td>doubleskipcheck with skipdoubleintersect</td>\n",
       "      <td>2.80</td>\n",
       "      <td>291</td>\n",
       "    </tr>\n",
       "    <tr>\n",
       "      <td>4</td>\n",
       "      <td>doubleskipcheck with skipdoublein</td>\n",
       "      <td>2.77</td>\n",
       "      <td>263</td>\n",
       "    </tr>\n",
       "    <tr>\n",
       "      <td>5</td>\n",
       "      <td>doubledelayedcheck</td>\n",
       "      <td>2.83</td>\n",
       "      <td>249</td>\n",
       "    </tr>\n",
       "    <tr>\n",
       "      <td>6</td>\n",
       "      <td>doublesubsetcheck</td>\n",
       "      <td>2.74</td>\n",
       "      <td>232</td>\n",
       "    </tr>\n",
       "    <tr>\n",
       "      <td>7</td>\n",
       "      <td>doubleslimcheck</td>\n",
       "      <td>2.75</td>\n",
       "      <td>229</td>\n",
       "    </tr>\n",
       "  </tbody>\n",
       "</table>\n",
       "</div>"
      ],
      "text/plain": [
       "                                     Method  Avg. no. of sets  \\\n",
       "0       triplecheck with comprehensioncheck              2.76   \n",
       "1                triplecheck with stepcheck              2.76   \n",
       "2                               doublecheck              2.82   \n",
       "3  doubleskipcheck with skipdoubleintersect              2.80   \n",
       "4         doubleskipcheck with skipdoublein              2.77   \n",
       "5                        doubledelayedcheck              2.83   \n",
       "6                         doublesubsetcheck              2.74   \n",
       "7                           doubleslimcheck              2.75   \n",
       "\n",
       "   microseconds per trial  \n",
       "0                     683  \n",
       "1                     293  \n",
       "2                     249  \n",
       "3                     291  \n",
       "4                     263  \n",
       "5                     249  \n",
       "6                     232  \n",
       "7                     229  "
      ]
     },
     "metadata": {},
     "output_type": "display_data"
    }
   ],
   "source": [
    "pandas.options.display.float_format = \"{:,.2f}\".format\n",
    "tm=time_methods(methods,variants,trials,deck,board_size)\n",
    "display(tm)"
   ]
  },
  {
   "cell_type": "code",
   "execution_count": 5,
   "metadata": {},
   "outputs": [
    {
     "data": {
      "image/png": "[encoded data removed]",
      "text/plain": [
       "<Figure size 432x288 with 1 Axes>"
      ]
     },
     "metadata": {
      "needs_background": "light"
     },
     "output_type": "display_data"
    }
   ],
   "source": [
    "plot_starting_sets(variants,trials,deck,board_size,doubleslimcheck)"
   ]
  },
  {
   "cell_type": "code",
   "execution_count": null,
   "metadata": {},
   "outputs": [],
   "source": []
  }
 ],
 "metadata": {
  "kernelspec": {
   "display_name": "Python 3",
   "language": "python",
   "name": "python3"
  },
  "language_info": {
   "codemirror_mode": {
    "name": "ipython",
    "version": 3
   },
   "file_extension": ".py",
   "mimetype": "text/x-python",
   "name": "python",
   "nbconvert_exporter": "python",
   "pygments_lexer": "ipython3",
   "version": "3.7.4"
  }
 },
 "nbformat": 4,
 "nbformat_minor": 2
}
