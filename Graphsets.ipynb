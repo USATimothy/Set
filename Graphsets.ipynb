{
 "cells": [
  {
   "cell_type": "code",
   "execution_count": 1,
   "metadata": {},
   "outputs": [],
   "source": [
    "from productsets import *"
   ]
  },
  {
   "cell_type": "code",
   "execution_count": 2,
   "metadata": {},
   "outputs": [
    {
     "data": {
      "text/html": [
       "<div>\n",
       "<style scoped>\n",
       "    .dataframe tbody tr th:only-of-type {\n",
       "        vertical-align: middle;\n",
       "    }\n",
       "\n",
       "    .dataframe tbody tr th {\n",
       "        vertical-align: top;\n",
       "    }\n",
       "\n",
       "    .dataframe thead th {\n",
       "        text-align: right;\n",
       "    }\n",
       "</style>\n",
       "<table border=\"1\" class=\"dataframe\">\n",
       "  <thead>\n",
       "    <tr style=\"text-align: right;\">\n",
       "      <th></th>\n",
       "      <th>Method</th>\n",
       "      <th>Avg. no. of sets</th>\n",
       "      <th>microseconds per trial</th>\n",
       "    </tr>\n",
       "  </thead>\n",
       "  <tbody>\n",
       "    <tr>\n",
       "      <th>0</th>\n",
       "      <td>triplecheck with comprehensioncheck</td>\n",
       "      <td>2.79</td>\n",
       "      <td>727</td>\n",
       "    </tr>\n",
       "    <tr>\n",
       "      <th>1</th>\n",
       "      <td>triplecheck with stepcheck</td>\n",
       "      <td>2.82</td>\n",
       "      <td>289</td>\n",
       "    </tr>\n",
       "    <tr>\n",
       "      <th>2</th>\n",
       "      <td>doublecheck</td>\n",
       "      <td>2.77</td>\n",
       "      <td>246</td>\n",
       "    </tr>\n",
       "    <tr>\n",
       "      <th>3</th>\n",
       "      <td>doubleskipcheck with skipdoubleintersect</td>\n",
       "      <td>2.62</td>\n",
       "      <td>282</td>\n",
       "    </tr>\n",
       "    <tr>\n",
       "      <th>4</th>\n",
       "      <td>doubleskipcheck with skipdoublein</td>\n",
       "      <td>3.05</td>\n",
       "      <td>246</td>\n",
       "    </tr>\n",
       "    <tr>\n",
       "      <th>5</th>\n",
       "      <td>doubledelayedcheck</td>\n",
       "      <td>2.79</td>\n",
       "      <td>245</td>\n",
       "    </tr>\n",
       "    <tr>\n",
       "      <th>6</th>\n",
       "      <td>doublesubsetcheck</td>\n",
       "      <td>2.91</td>\n",
       "      <td>224</td>\n",
       "    </tr>\n",
       "    <tr>\n",
       "      <th>7</th>\n",
       "      <td>doubleslimcheck</td>\n",
       "      <td>2.54</td>\n",
       "      <td>224</td>\n",
       "    </tr>\n",
       "  </tbody>\n",
       "</table>\n",
       "</div>"
      ],
      "text/plain": [
       "                                     Method  Avg. no. of sets  \\\n",
       "0       triplecheck with comprehensioncheck              2.79   \n",
       "1                triplecheck with stepcheck              2.82   \n",
       "2                               doublecheck              2.77   \n",
       "3  doubleskipcheck with skipdoubleintersect              2.62   \n",
       "4         doubleskipcheck with skipdoublein              3.05   \n",
       "5                        doubledelayedcheck              2.79   \n",
       "6                         doublesubsetcheck              2.91   \n",
       "7                           doubleslimcheck              2.54   \n",
       "\n",
       "   microseconds per trial  \n",
       "0                     727  \n",
       "1                     289  \n",
       "2                     246  \n",
       "3                     282  \n",
       "4                     246  \n",
       "5                     245  \n",
       "6                     224  \n",
       "7                     224  "
      ]
     },
     "metadata": {},
     "output_type": "display_data"
    }
   ],
   "source": [
    "pandas.options.display.float_format = \"{:,.2f}\".format\n",
    "tm=time_methods(methods,variants,trials,deck,board_size)\n",
    "display(tm)"
   ]
  },
  {
   "cell_type": "code",
   "execution_count": 2,
   "metadata": {},
   "outputs": [
    {
     "data": {
      "image/png": "[encoded data removed]",
      "text/plain": [
       "<Figure size 432x288 with 1 Axes>"
      ]
     },
     "metadata": {
      "needs_background": "light"
     },
     "output_type": "display_data"
    }
   ],
   "source": [
    "plot_starting_sets(variants,trials,deck,board_size,doubleslimcheck)"
   ]
  },
  {
   "cell_type": "code",
   "execution_count": null,
   "metadata": {},
   "outputs": [],
   "source": []
  }
 ],
 "metadata": {
  "kernelspec": {
   "display_name": "Python [conda env:root] *",
   "language": "python",
   "name": "conda-root-py"
  },
  "language_info": {
   "codemirror_mode": {
    "name": "ipython",
    "version": 3
   },
   "file_extension": ".py",
   "mimetype": "text/x-python",
   "name": "python",
   "nbconvert_exporter": "python",
   "pygments_lexer": "ipython3",
   "version": "3.7.13"
  }
 },
 "nbformat": 4,
 "nbformat_minor": 2
}
